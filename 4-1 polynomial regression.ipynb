{
 "cells": [
  {
   "cell_type": "code",
   "execution_count": 1,
   "metadata": {
    "collapsed": false
   },
   "outputs": [],
   "source": [
    "import assignment1 as a1\n",
    "import utilities as utl\n",
    "import scipy\n",
    "import numpy as np\n",
    "import matplotlib.pyplot as plt\n",
    "\n",
    "from utilities import *\n",
    "\n",
    "%matplotlib inline\n",
    "%load_ext autoreload\n",
    "%autoreload 2"
   ]
  },
  {
   "cell_type": "code",
   "execution_count": 2,
   "metadata": {
    "collapsed": false
   },
   "outputs": [
    {
     "name": "stdout",
     "output_type": "stream",
     "text": [
      "(195,) (40,) (195, 40)\n"
     ]
    }
   ],
   "source": [
    "(countries, features, values) = a1.load_unicef_data()\n",
    "print countries.shape, features.shape, values.shape"
   ]
  },
  {
   "cell_type": "code",
   "execution_count": 3,
   "metadata": {
    "collapsed": false
   },
   "outputs": [
    {
     "name": "stdout",
     "output_type": "stream",
     "text": [
      "(1, 40)\n",
      "[[123 153 153 153  96 153 158  35  77  77 111  85  46  35 107 146 142 193\n",
      "  119 173 192   0 160  21   0  25   3   3   3   3   3   3   1   1   1   1\n",
      "    1   1   1 177]]\n"
     ]
    }
   ],
   "source": [
    "maxColumn = np.argmax(values, axis=0)\n",
    "print maxColumn.shape\n",
    "print maxColumn"
   ]
  },
  {
   "cell_type": "code",
   "execution_count": 4,
   "metadata": {
    "collapsed": false
   },
   "outputs": [
    {
     "name": "stdout",
     "output_type": "stream",
     "text": [
      "[['Niger' 'Sierra Leone' 'Sierra Leone' 'Sierra Leone' 'Liberia'\n",
      "  'Sierra Leone' 'Somalia' 'China' 'India' 'India' 'Monaco' 'Japan'\n",
      "  \"Democratic People's Republic of Korea\" 'China' 'Mauritania' 'Samoa'\n",
      "  'Rwanda' 'Zambia' 'Nepal' 'Timor-Leste' 'Yemen' 'Afghanistan'\n",
      "  'South Sudan_' 'Bosnia and Herzegovina' 'Afghanistan' 'Bulgaria'\n",
      "  'Andorra' 'Andorra' 'Andorra' 'Andorra' 'Andorra' 'Andorra' 'Albania'\n",
      "  'Albania' 'Albania' 'Albania' 'Albania' 'Albania' 'Albania' 'Tunisia']]\n"
     ]
    }
   ],
   "source": [
    "print countries[maxColumn]"
   ]
  },
  {
   "cell_type": "code",
   "execution_count": 5,
   "metadata": {
    "collapsed": false
   },
   "outputs": [
    {
     "name": "stdout",
     "output_type": "stream",
     "text": [
      "(95, 33)\n"
     ]
    }
   ],
   "source": [
    "(countries, features, values) = a1.load_unicef_data()\n",
    "targets = values[:,1]\n",
    "x = values[:,7:]\n",
    "# x = a1.normalize_data(x)\n",
    "\n",
    "\n",
    "N_TRAIN = 100;\n",
    "x_train = x[0:N_TRAIN,:]\n",
    "x_test = x[N_TRAIN:,:]\n",
    "t_train = targets[0:N_TRAIN]\n",
    "t_test = targets[N_TRAIN:]\n",
    "print x_test.shape"
   ]
  },
  {
   "cell_type": "code",
   "execution_count": 6,
   "metadata": {
    "collapsed": false
   },
   "outputs": [
    {
     "data": {
      "text/plain": [
       "(100, 33)"
      ]
     },
     "execution_count": 6,
     "metadata": {},
     "output_type": "execute_result"
    }
   ],
   "source": [
    "x_train.shape"
   ]
  },
  {
   "cell_type": "code",
   "execution_count": 7,
   "metadata": {
    "collapsed": false
   },
   "outputs": [
    {
     "data": {
      "text/plain": [
       "(100, 66)"
      ]
     },
     "execution_count": 7,
     "metadata": {},
     "output_type": "execute_result"
    }
   ],
   "source": [
    "poly_attach(x_train, 2).shape"
   ]
  },
  {
   "cell_type": "code",
   "execution_count": 8,
   "metadata": {
    "collapsed": false
   },
   "outputs": [
    {
     "name": "stdout",
     "output_type": "stream",
     "text": [
      "29.0289042714\n",
      "548.717632303\n"
     ]
    }
   ],
   "source": [
    "(countries, features, values) = a1.load_unicef_data()\n",
    "targets = values[:,1]\n",
    "x = values[:,7:]\n",
    "# x = a1.normalize_data(x)\n",
    "\n",
    "\n",
    "N_TRAIN = 100;\n",
    "x_train = x[0:N_TRAIN,:]\n",
    "x_test = x[N_TRAIN:,:]\n",
    "t_train = targets[0:N_TRAIN]\n",
    "t_test = targets[N_TRAIN:]\n",
    "# print x_test.shape\n",
    "w, s,v = polynomial_regression(x_train, t_train, x_test, t_test, degree=1)\n",
    "print v\n",
    "w1 = np.zeros_like(w)\n",
    "print np.sqrt(np.sum(np.square(x_test * w1 - t_test)))"
   ]
  },
  {
   "cell_type": "code",
   "execution_count": 9,
   "metadata": {
    "collapsed": false
   },
   "outputs": [
    {
     "data": {
      "image/png": "[encoded data removed]",
      "text/plain": [
       "<matplotlib.figure.Figure at 0x1194aae10>"
      ]
     },
     "metadata": {},
     "output_type": "display_data"
    }
   ],
   "source": [
    "train_err = dict()\n",
    "test_err = dict()\n",
    "for i in xrange(1, 7):\n",
    "    w, err_train, err_test =  polynomial_regression(x_train, t_train, x_test,t_test, degree=i)\n",
    "    train_err[i] = err_train\n",
    "    test_err[i] = err_test\n",
    "\n",
    "plt.plot(test_err.keys(), test_err.values())\n",
    "plt.plot(train_err.keys(), train_err.values())\n",
    "plt.ylabel('RMS')\n",
    "plt.legend(['Test error','Training error'])\n",
    "plt.title('Fit with polynomials, no normalization')\n",
    "plt.xlabel('Polynomial degree')\n",
    "plt.show()"
   ]
  },
  {
   "cell_type": "code",
   "execution_count": 10,
   "metadata": {
    "collapsed": false
   },
   "outputs": [
    {
     "name": "stdout",
     "output_type": "stream",
     "text": [
      "70.4036241428\n",
      "548.717632303\n"
     ]
    },
    {
     "data": {
      "image/png": "[encoded data removed]",
      "text/plain": [
       "<matplotlib.figure.Figure at 0x119483990>"
      ]
     },
     "metadata": {},
     "output_type": "display_data"
    }
   ],
   "source": [
    "(countries, features, values) = a1.load_unicef_data()\n",
    "targets = values[:,1]\n",
    "x = values[:,7:]\n",
    "x = a1.normalize_data(x)\n",
    "\n",
    "\n",
    "N_TRAIN = 100;\n",
    "x_train = x[0:N_TRAIN,:]\n",
    "x_test = x[N_TRAIN:,:]\n",
    "t_train = targets[0:N_TRAIN]\n",
    "t_test = targets[N_TRAIN:]\n",
    "# print x_test.shape\n",
    "w, s,v = polynomial_regression(x_train, t_train, x_test, t_test, degree=1)\n",
    "print v\n",
    "w1 = np.zeros_like(w)\n",
    "print np.sqrt(np.sum(np.square(x_test * w1 - t_test)))\n",
    "\n",
    "train_err = dict()\n",
    "test_err = dict()\n",
    "for i in xrange(1, 7):\n",
    "    w, err_train, err_test =  polynomial_regression(x_train, t_train, x_test,t_test, degree=i)\n",
    "    train_err[i] = err_train\n",
    "    test_err[i] = err_test\n",
    "\n",
    "plt.plot(test_err.keys(), test_err.values())\n",
    "plt.plot(train_err.keys(), train_err.values())\n",
    "plt.ylabel('RMS')\n",
    "plt.legend(['Test error','Training error'])\n",
    "plt.title('Fit with polynomials, with normalization')\n",
    "plt.xlabel('Polynomial degree')\n",
    "plt.show()"
   ]
  },
  {
   "cell_type": "code",
   "execution_count": null,
   "metadata": {
    "collapsed": false
   },
   "outputs": [],
   "source": []
  },
  {
   "cell_type": "code",
   "execution_count": null,
   "metadata": {
    "collapsed": true
   },
   "outputs": [],
   "source": []
  }
 ],
 "metadata": {
  "kernelspec": {
   "display_name": "Python 2",
   "language": "python",
   "name": "python2"
  },
  "language_info": {
   "codemirror_mode": {
    "name": "ipython",
    "version": 2
   },
   "file_extension": ".py",
   "mimetype": "text/x-python",
   "name": "python",
   "nbconvert_exporter": "python",
   "pygments_lexer": "ipython2",
   "version": "2.7.11"
  }
 },
 "nbformat": 4,
 "nbformat_minor": 0
}
