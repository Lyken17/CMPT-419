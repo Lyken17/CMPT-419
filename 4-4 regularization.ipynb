{
 "cells": [
  {
   "cell_type": "code",
   "execution_count": 18,
   "metadata": {
    "collapsed": true
   },
   "outputs": [],
   "source": [
    "import assignment1 as a1\n",
    "import utilities as utl\n",
    "import scipy\n",
    "import numpy as np\n",
    "import matplotlib.pyplot as plt\n",
    "\n",
    "from utilities import *\n",
    "\n",
    "%matplotlib inline\n",
    "%load_ext autoreload\n",
    "%autoreload 2"
   ]
  },
  {
   "cell_type": "code",
   "execution_count": 19,
   "metadata": {
    "collapsed": true
   },
   "outputs": [],
   "source": [
    "(countries, features, values) = a1.load_unicef_data()\n",
    "\n",
    "targets = values[:,1]\n",
    "x = values[:,:]\n",
    "# x = a1.normalize_data(x)\n",
    "\n",
    "feature=10\n",
    "N_TRAIN = 100;\n",
    "x_train = x[0:N_TRAIN, feature]\n",
    "t_train = targets[0:N_TRAIN]\n",
    "x_test = x[N_TRAIN:, feature]\n",
    "t_test = targets[N_TRAIN:]\n",
    "\n",
    "u = (100, 10000)\n",
    "s = 2000.0\n",
    "r = (0.0001, 0.001, 0.01, 0.1, 1, 10, 100, 1000, 1000)"
   ]
  },
  {
   "cell_type": "code",
   "execution_count": null,
   "metadata": {
    "collapsed": true
   },
   "outputs": [],
   "source": []
  },
  {
   "cell_type": "code",
   "execution_count": 20,
   "metadata": {
    "collapsed": false
   },
   "outputs": [
    {
     "name": "stdout",
     "output_type": "stream",
     "text": [
      "23.3 33.8\n",
      "23.3 33.8\n",
      "23.4 33.6\n",
      "25.2 32.6\n",
      "42.5 40.8\n",
      "55.6 51.4\n",
      "57.6 53.0\n",
      "58.0 53.1\n",
      "58.0 53.1\n"
     ]
    }
   ],
   "source": [
    "err_test_count = []\n",
    "err_train_count = []\n",
    "for temp_lambda in r:\n",
    "\n",
    "    sta_pos = [it * 10 for it in range(10)]\n",
    "    end_pos = [it * 10 for it in range(11)][1:]\n",
    "\n",
    "    err_test_collection = np.array([0] * 10)\n",
    "    err_train_collection = np.array([0] * 10)\n",
    "    \n",
    "    for idx in xrange(10):\n",
    "        s1 = sta_pos[idx % 10]\n",
    "        e1 = end_pos[idx % 10]\n",
    "        s2 = sta_pos[(idx+1) % 10]\n",
    "        e2 = end_pos[(idx+1) % 10]\n",
    "        # print s1, e1, s2, e2\n",
    "        new_x_train = construct_sigmoid_array(x_train[s1:e1], u, s)\n",
    "        new_t_train = t_train[s1:e1]\n",
    "        new_x_test = construct_sigmoid_array(x_test[s2:e2], u, s)\n",
    "        new_t_test = t_test[s2:e2]\n",
    "        # with regularization\n",
    "        w, err_train, err_test =  polynomial_regression_with_regularization( \\\n",
    "                            temp_lambda, new_x_train, new_t_train, new_x_test, new_t_test)\n",
    "        \n",
    "        err_test_collection[idx] = err_test\n",
    "        err_train_collection[idx] = err_train\n",
    "    err_test_count.append(np.average(err_test_collection))\n",
    "    err_train_count.append(np.average(err_train_collection))\n",
    "    print np.average(err_train_collection), np.average(err_test_collection)"
   ]
  },
  {
   "cell_type": "code",
   "execution_count": 21,
   "metadata": {
    "collapsed": false
   },
   "outputs": [
    {
     "data": {
      "text/plain": [
       "(0.0001, 0.001, 0.01, 0.1, 1, 10, 100, 1000, 1000)"
      ]
     },
     "execution_count": 21,
     "metadata": {},
     "output_type": "execute_result"
    }
   ],
   "source": [
    "r"
   ]
  },
  {
   "cell_type": "code",
   "execution_count": 22,
   "metadata": {
    "collapsed": false
   },
   "outputs": [
    {
     "data": {
      "text/plain": [
       "[33.799999999999997,\n",
       " 33.799999999999997,\n",
       " 33.600000000000001,\n",
       " 32.600000000000001,\n",
       " 40.799999999999997,\n",
       " 51.399999999999999,\n",
       " 53.0,\n",
       " 53.100000000000001,\n",
       " 53.100000000000001]"
      ]
     },
     "execution_count": 22,
     "metadata": {},
     "output_type": "execute_result"
    }
   ],
   "source": [
    "err_test_count"
   ]
  },
  {
   "cell_type": "code",
   "execution_count": 23,
   "metadata": {
    "collapsed": false
   },
   "outputs": [
    {
     "data": {
      "image/png": "[encoded data removed]",
      "text/plain": [
       "<matplotlib.figure.Figure at 0x1188985d0>"
      ]
     },
     "metadata": {},
     "output_type": "display_data"
    }
   ],
   "source": [
    "plt.semilogx(r, err_test_count)\n",
    "plt.title('Testing error under different lambda regularization')\n",
    "plt.show()"
   ]
  },
  {
   "cell_type": "code",
   "execution_count": null,
   "metadata": {
    "collapsed": true
   },
   "outputs": [],
   "source": []
  }
 ],
 "metadata": {
  "kernelspec": {
   "display_name": "Python 2",
   "language": "python",
   "name": "python2"
  },
  "language_info": {
   "codemirror_mode": {
    "name": "ipython",
    "version": 2
   },
   "file_extension": ".py",
   "mimetype": "text/x-python",
   "name": "python",
   "nbconvert_exporter": "python",
   "pygments_lexer": "ipython2",
   "version": "2.7.11"
  }
 },
 "nbformat": 4,
 "nbformat_minor": 0
}
