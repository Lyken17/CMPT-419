{
 "cells": [
  {
   "cell_type": "code",
   "execution_count": 42,
   "metadata": {
    "collapsed": false
   },
   "outputs": [
    {
     "name": "stdout",
     "output_type": "stream",
     "text": [
      "The autoreload extension is already loaded. To reload it, use:\n",
      "  %reload_ext autoreload\n"
     ]
    }
   ],
   "source": [
    "import assignment1 as a1\n",
    "import utilities as utl\n",
    "import scipy\n",
    "import numpy as np\n",
    "import matplotlib.pyplot as plt\n",
    "\n",
    "from utilities import *\n",
    "\n",
    "%matplotlib inline\n",
    "%load_ext autoreload\n",
    "%autoreload 2"
   ]
  },
  {
   "cell_type": "code",
   "execution_count": 43,
   "metadata": {
    "collapsed": true
   },
   "outputs": [],
   "source": [
    "(countries, features, values) = a1.load_unicef_data()\n",
    "\n",
    "targets = values[:,1]\n",
    "x = values[:,7:]\n",
    "x = a1.normalize_data(x)\n",
    "\n",
    "N_TRAIN = 100\n",
    "x_train = x[0:N_TRAIN, :]\n",
    "t_train = targets[0:N_TRAIN]\n",
    "x_test = x[N_TRAIN:, :]\n",
    "t_test = targets[N_TRAIN:]\n",
    "\n",
    "u = (100, 10000)\n",
    "s = 2000.0\n",
    "r = (0.0001, 0.001, 0.01, 0.1, 1, 10, 100, 1000, 10000)"
   ]
  },
  {
   "cell_type": "code",
   "execution_count": 44,
   "metadata": {
    "collapsed": false
   },
   "outputs": [
    {
     "name": "stdout",
     "output_type": "stream",
     "text": [
      "3.9 133.2\n",
      "3.9 130.4\n",
      "3.9 107.8\n",
      "4.0 47.0\n",
      "5.4 53.9\n",
      "7.9 45.1\n",
      "13.2 28.4\n",
      "24.4 28.0\n",
      "44.2 43.6\n"
     ]
    },
    {
     "data": {
      "image/png": "[encoded data removed]",
      "text/plain": [
       "<matplotlib.figure.Figure at 0x11f206dd0>"
      ]
     },
     "metadata": {},
     "output_type": "display_data"
    }
   ],
   "source": [
    "err_test_count = []\n",
    "err_train_count = []\n",
    "for temp_lambda in r:\n",
    "\n",
    "    sta_pos = [it * 10 for it in range(10)]\n",
    "    end_pos = [it * 10 for it in range(11)][1:]\n",
    "\n",
    "    err_test_collection = np.array([0] * 10)\n",
    "    err_train_collection = np.array([0] * 10)\n",
    "\n",
    "    for idx in xrange(10):\n",
    "        s1 = sta_pos[idx % 10]\n",
    "        e1 = end_pos[idx % 10]\n",
    "        s2 = sta_pos[(idx+1) % 10]\n",
    "        e2 = end_pos[(idx+1) % 10]\n",
    "        # print s1, e1, s2, e2\n",
    "        new_x_train = np.concatenate((x_train[:s2], x_train[e2:]), axis=0)\n",
    "        new_t_train = np.concatenate((t_train[:s2], t_train[e2:]), axis=0)\n",
    "        new_x_test = x_train[s2:e2]\n",
    "        new_t_test = t_train[s2:e2]\n",
    "        # with regularization\n",
    "        w, err_train, err_test = polynomial_regression_with_regularization( \\\n",
    "                            temp_lambda, new_x_train, new_t_train, new_x_test, new_t_test, degree=2)\n",
    "\n",
    "        err_test_collection[idx] = err_test\n",
    "        err_train_collection[idx] = err_train\n",
    "    \n",
    "    err_test_count.append(np.average(err_test_collection))\n",
    "    err_train_count.append(np.average(err_train_collection))\n",
    "\n",
    "    print np.mean(err_train_collection), np.mean(err_test_collection)\n",
    "    \n",
    "\n",
    "plt.semilogx(r, err_test_count)\n",
    "plt.title('Testing error under different lambda regularization')\n",
    "plt.show()"
   ]
  },
  {
   "cell_type": "code",
   "execution_count": null,
   "metadata": {
    "collapsed": false
   },
   "outputs": [],
   "source": []
  },
  {
   "cell_type": "code",
   "execution_count": 37,
   "metadata": {
    "collapsed": false
   },
   "outputs": [
    {
     "data": {
      "text/plain": [
       "[35.399999999999999,\n",
       " 35.399999999999999,\n",
       " 35.399999999999999,\n",
       " 35.399999999999999,\n",
       " 35.0,\n",
       " 33.600000000000001,\n",
       " 32.799999999999997,\n",
       " 44.5,\n",
       " 55.5]"
      ]
     },
     "execution_count": 37,
     "metadata": {},
     "output_type": "execute_result"
    }
   ],
   "source": [
    "err_test_count"
   ]
  },
  {
   "cell_type": "code",
   "execution_count": null,
   "metadata": {
    "collapsed": false
   },
   "outputs": [],
   "source": []
  },
  {
   "cell_type": "code",
   "execution_count": null,
   "metadata": {
    "collapsed": true
   },
   "outputs": [],
   "source": []
  },
  {
   "cell_type": "code",
   "execution_count": null,
   "metadata": {
    "collapsed": true
   },
   "outputs": [],
   "source": []
  }
 ],
 "metadata": {
  "kernelspec": {
   "display_name": "Python 2",
   "language": "python",
   "name": "python2"
  },
  "language_info": {
   "codemirror_mode": {
    "name": "ipython",
    "version": 2
   },
   "file_extension": ".py",
   "mimetype": "text/x-python",
   "name": "python",
   "nbconvert_exporter": "python",
   "pygments_lexer": "ipython2",
   "version": "2.7.11"
  }
 },
 "nbformat": 4,
 "nbformat_minor": 0
}
