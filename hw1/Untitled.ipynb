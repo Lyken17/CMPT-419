{
 "cells": [
  {
   "cell_type": "code",
   "execution_count": 1,
   "metadata": {
    "collapsed": true
   },
   "outputs": [],
   "source": [
    "#!/usr/bin/env python\n",
    "\n",
    "import assignment1 as a1\n",
    "import numpy as np\n",
    "import matplotlib.pyplot as plt\n",
    "%matplotlib inline \n",
    "%load_ext autoreload\n",
    "%autoreload 2\n"
   ]
  },
  {
   "cell_type": "code",
   "execution_count": 10,
   "metadata": {
    "collapsed": false
   },
   "outputs": [
    {
     "name": "stdout",
     "output_type": "stream",
     "text": [
      "(195,) (40,) (195, 40)\n"
     ]
    }
   ],
   "source": [
    "(countries, features, values) = a1.load_unicef_data()\n",
    "print countries.shape, features.shape, values.shape"
   ]
  },
  {
   "cell_type": "code",
   "execution_count": 44,
   "metadata": {
    "collapsed": false
   },
   "outputs": [
    {
     "name": "stdout",
     "output_type": "stream",
     "text": [
      "(1, 40)\n",
      "[[123 153 153 153  96 153 158  35  77  77 111  85  46  35 107 146 142 193\n",
      "  119 173 192   0 160  21   0  25   3   3   3   3   3   3   1   1   1   1\n",
      "    1   1   1 177]]\n"
     ]
    }
   ],
   "source": [
    "maxColumn = np.argmax(values, axis=0)\n",
    "print maxColumn.shape\n",
    "print maxColumn"
   ]
  },
  {
   "cell_type": "code",
   "execution_count": 41,
   "metadata": {
    "collapsed": false
   },
   "outputs": [
    {
     "name": "stdout",
     "output_type": "stream",
     "text": [
      "[['Armenia']\n",
      " ['Azerbaijan']\n",
      " ['Armenia']\n",
      " ['Azerbaijan']\n",
      " ['Armenia']\n",
      " ['Azerbaijan']\n",
      " ['Armenia']\n",
      " ['Azerbaijan']\n",
      " ['Azerbaijan']\n",
      " ['Azerbaijan']\n",
      " ['Armenia']\n",
      " ['Azerbaijan']\n",
      " ['Azerbaijan']\n",
      " ['Armenia']\n",
      " ['Azerbaijan']\n",
      " ['Armenia']\n",
      " ['Azerbaijan']\n",
      " ['Azerbaijan']\n",
      " ['Armenia']\n",
      " ['Azerbaijan']\n",
      " ['Armenia']\n",
      " ['Azerbaijan']\n",
      " ['Azerbaijan']\n",
      " ['Armenia']\n",
      " ['Azerbaijan']\n",
      " ['Armenia']\n",
      " ['Armenia']\n",
      " ['Armenia']\n",
      " ['Armenia']\n",
      " ['Armenia']\n",
      " ['Azerbaijan']\n",
      " ['Azerbaijan']\n",
      " ['Armenia']\n",
      " ['Armenia']\n",
      " ['Armenia']\n",
      " ['Armenia']\n",
      " ['Armenia']\n",
      " ['Azerbaijan']\n",
      " ['Armenia']\n",
      " ['Azerbaijan']\n",
      " ['Azerbaijan']\n",
      " ['Armenia']\n",
      " ['Azerbaijan']\n",
      " ['Armenia']\n",
      " ['Azerbaijan']\n",
      " ['Azerbaijan']\n",
      " ['Armenia']\n",
      " ['Armenia']\n",
      " ['Azerbaijan']\n",
      " ['Azerbaijan']\n",
      " ['Azerbaijan']\n",
      " ['Armenia']\n",
      " ['Armenia']\n",
      " ['Armenia']\n",
      " ['Armenia']\n",
      " ['Azerbaijan']\n",
      " ['Armenia']\n",
      " ['Azerbaijan']\n",
      " ['Armenia']\n",
      " ['Azerbaijan']\n",
      " ['Azerbaijan']\n",
      " ['Armenia']\n",
      " ['Azerbaijan']\n",
      " ['Armenia']\n",
      " ['Armenia']\n",
      " ['Armenia']\n",
      " ['Armenia']\n",
      " ['Azerbaijan']\n",
      " ['Azerbaijan']\n",
      " ['Armenia']\n",
      " ['Armenia']\n",
      " ['Armenia']\n",
      " ['Azerbaijan']\n",
      " ['Armenia']\n",
      " ['Armenia']\n",
      " ['Azerbaijan']\n",
      " ['Azerbaijan']\n",
      " ['Armenia']\n",
      " ['Armenia']\n",
      " ['Armenia']\n",
      " ['Armenia']\n",
      " ['Azerbaijan']\n",
      " ['Azerbaijan']\n",
      " ['Armenia']\n",
      " ['Azerbaijan']\n",
      " ['Armenia']\n",
      " ['Armenia']\n",
      " ['Armenia']\n",
      " ['Armenia']\n",
      " ['Azerbaijan']\n",
      " ['Azerbaijan']\n",
      " ['Armenia']\n",
      " ['Armenia']\n",
      " ['Azerbaijan']\n",
      " ['Azerbaijan']\n",
      " ['Armenia']\n",
      " ['Armenia']\n",
      " ['Azerbaijan']\n",
      " ['Azerbaijan']\n",
      " ['Azerbaijan']\n",
      " ['Armenia']\n",
      " ['Armenia']\n",
      " ['Armenia']\n",
      " ['Azerbaijan']\n",
      " ['Armenia']\n",
      " ['Azerbaijan']\n",
      " ['Azerbaijan']\n",
      " ['Armenia']\n",
      " ['Azerbaijan']\n",
      " ['Armenia']\n",
      " ['Azerbaijan']\n",
      " ['Azerbaijan']\n",
      " ['Armenia']\n",
      " ['Azerbaijan']\n",
      " ['Armenia']\n",
      " ['Armenia']\n",
      " ['Armenia']\n",
      " ['Azerbaijan']\n",
      " ['Azerbaijan']\n",
      " ['Armenia']\n",
      " ['Azerbaijan']\n",
      " ['Azerbaijan']\n",
      " ['Armenia']\n",
      " ['Armenia']\n",
      " ['Armenia']\n",
      " ['Azerbaijan']\n",
      " ['Azerbaijan']\n",
      " ['Azerbaijan']\n",
      " ['Armenia']\n",
      " ['Azerbaijan']\n",
      " ['Azerbaijan']\n",
      " ['Armenia']\n",
      " ['Armenia']\n",
      " ['Armenia']\n",
      " ['Armenia']\n",
      " ['Armenia']\n",
      " ['Azerbaijan']\n",
      " ['Azerbaijan']\n",
      " ['Armenia']\n",
      " ['Armenia']\n",
      " ['Armenia']\n",
      " ['Armenia']\n",
      " ['Armenia']\n",
      " ['Azerbaijan']\n",
      " ['Azerbaijan']\n",
      " ['Azerbaijan']\n",
      " ['Azerbaijan']\n",
      " ['Azerbaijan']\n",
      " ['Azerbaijan']\n",
      " ['Armenia']\n",
      " ['Armenia']\n",
      " ['Armenia']\n",
      " ['Azerbaijan']\n",
      " ['Armenia']\n",
      " ['Azerbaijan']\n",
      " ['Azerbaijan']\n",
      " ['Azerbaijan']\n",
      " ['Azerbaijan']\n",
      " ['Azerbaijan']\n",
      " ['Armenia']\n",
      " ['Azerbaijan']\n",
      " ['Armenia']\n",
      " ['Armenia']\n",
      " ['Azerbaijan']\n",
      " ['Armenia']\n",
      " ['Azerbaijan']\n",
      " ['Azerbaijan']\n",
      " ['Azerbaijan']\n",
      " ['Azerbaijan']\n",
      " ['Armenia']\n",
      " ['Armenia']\n",
      " ['Armenia']\n",
      " ['Azerbaijan']\n",
      " ['Azerbaijan']\n",
      " ['Armenia']\n",
      " ['Azerbaijan']\n",
      " ['Azerbaijan']\n",
      " ['Armenia']\n",
      " ['Armenia']\n",
      " ['Armenia']\n",
      " ['Azerbaijan']\n",
      " ['Armenia']\n",
      " ['Armenia']\n",
      " ['Azerbaijan']\n",
      " ['Armenia']\n",
      " ['Armenia']\n",
      " ['Armenia']\n",
      " ['Azerbaijan']\n",
      " ['Armenia']\n",
      " ['Azerbaijan']\n",
      " ['Armenia']\n",
      " ['Armenia']\n",
      " ['Armenia']\n",
      " ['Armenia']\n",
      " ['Armenia']]\n"
     ]
    }
   ],
   "source": [
    "print countries[maxColumn]"
   ]
  },
  {
   "cell_type": "code",
   "execution_count": 42,
   "metadata": {
    "collapsed": false
   },
   "outputs": [
    {
     "name": "stdout",
     "output_type": "stream",
     "text": [
      "7   Armenia 47.2\n"
     ]
    }
   ],
   "source": []
  },
  {
   "cell_type": "code",
   "execution_count": 7,
   "metadata": {
    "collapsed": false
   },
   "outputs": [
    {
     "name": "stdout",
     "output_type": "stream",
     "text": [
      "(95, 33)\n"
     ]
    }
   ],
   "source": [
    "(countries, features, values) = a1.load_unicef_data()\n",
    "targets = values[:,1]\n",
    "x = values[:,7:]\n",
    "x = a1.normalize_data(x)\n",
    "\n",
    "\n",
    "N_TRAIN = 100;\n",
    "x_train = x[0:N_TRAIN,:]\n",
    "x_test = x[N_TRAIN:,:]\n",
    "t_train = targets[0:N_TRAIN]\n",
    "t_test = targets[N_TRAIN:]\n",
    "print x_test.shape"
   ]
  },
  {
   "cell_type": "code",
   "execution_count": 9,
   "metadata": {
    "collapsed": false
   },
   "outputs": [
    {
     "name": "stdout",
     "output_type": "stream",
     "text": [
      "(100, 33) (100, 1) (95, 33) (95, 1) (33, 1)\n",
      "poly degree:  1\n",
      "training error: 353.058995395\n",
      "testing error: 686.209645649\n",
      "================================================================\n"
     ]
    },
    {
     "data": {
      "text/plain": [
       "matrix([[ 47.04386696],\n",
       "        [-73.95122412],\n",
       "        [ 37.28337004],\n",
       "        [ -9.73725729],\n",
       "        [-21.19050086],\n",
       "        [-21.37604329],\n",
       "        [-10.87128902],\n",
       "        [-23.53623851],\n",
       "        [ -5.26504978],\n",
       "        [ -3.42923122],\n",
       "        [ 10.37199422],\n",
       "        [ -4.35596751],\n",
       "        [ 10.43772632],\n",
       "        [ 27.62767585],\n",
       "        [  4.40695895],\n",
       "        [-25.16415771],\n",
       "        [ 13.32917295],\n",
       "        [ -4.07166797],\n",
       "        [ -4.42109622],\n",
       "        [ 47.08878492],\n",
       "        [-18.74216849],\n",
       "        [-24.30505708],\n",
       "        [-28.19099872],\n",
       "        [ -9.06970663],\n",
       "        [ 32.9536772 ],\n",
       "        [ -7.78428528],\n",
       "        [ 12.45256187],\n",
       "        [-22.75461453],\n",
       "        [ 16.18267474],\n",
       "        [ -1.99036815],\n",
       "        [ -6.24770829],\n",
       "        [  4.01761177],\n",
       "        [ 12.05773407]])"
      ]
     },
     "execution_count": 9,
     "metadata": {},
     "output_type": "execute_result"
    }
   ],
   "source": [
    "def poly_attach(X, n=1):\n",
    "    X = np.array(X)\n",
    "    ans = X\n",
    "    for i in xrange(2, n+1):\n",
    "        temp = X ** i\n",
    "        ans = np.concatenate((ans, temp), axis=1)\n",
    "    return np.matrix(ans)\n",
    "\n",
    "def poly_reg(xx, tt, xx_t, tt_t, n=1):\n",
    "    X = poly_attach(xx, n)\n",
    "    y = tt\n",
    "    \n",
    "    X_test = poly_attach(xx_t, n)\n",
    "    y_test = tt_t\n",
    "    \n",
    "    print X.shape, y.shape, X_test.shape, y_test.shape,\n",
    "    \n",
    "    w = np.linalg.inv(X.T * X) * X.T * y\n",
    "    \n",
    "    print w.shape\n",
    "    err_train = np.sqrt(np.sum(np.square(X * w - y)))\n",
    "    err_test = np.sqrt(np.sum(np.square(X_test * w - y_test)))\n",
    "    print \"poly degree: \", n\n",
    "    print \"training error:\", err_train\n",
    "    print \"testing error:\", err_test\n",
    "    print \"================================================================\"\n",
    "    return w\n",
    "\n",
    "poly_reg(x_train, t_train, x_test, t_test, 1)"
   ]
  },
  {
   "cell_type": "code",
   "execution_count": 297,
   "metadata": {
    "collapsed": false
   },
   "outputs": [
    {
     "name": "stdout",
     "output_type": "stream",
     "text": [
      "(80, 5) (80, 1) (20, 5) (20, 1) (5, 1)\n",
      "poly degree:  1\n",
      "training error: 1.3116919128e-10\n",
      "testing error: 8.52405683971e-11\n",
      "================================================================\n",
      "[[ 1.]\n",
      " [ 1.]\n",
      " [ 1.]\n",
      " [ 1.]\n",
      " [ 1.]]\n"
     ]
    }
   ],
   "source": [
    "new_x = np.random.rand(100, 5) * 10000\n",
    "new_w = np.matrix(np.ones(5)).T\n",
    "new_y = new_x * new_w\n",
    "\n",
    "x_tr = new_x[:80, ]\n",
    "y_tr = new_y[:80, ]\n",
    "x_te = new_x[80:, ]\n",
    "y_te = new_y[80:, ]\n",
    "\n",
    "\n",
    "tw = poly_reg(x_tr, y_tr, x_te, y_te, n=1)\n",
    "print tw"
   ]
  },
  {
   "cell_type": "code",
   "execution_count": 344,
   "metadata": {
    "collapsed": false
   },
   "outputs": [
    {
     "name": "stdout",
     "output_type": "stream",
     "text": [
      "LinearRegression(copy_X=True, fit_intercept=True, n_jobs=1, normalize=False)\n",
      "[-1.  2.]\n"
     ]
    }
   ],
   "source": [
    "from sklearn import linear_model\n",
    "M = 10\n",
    "N = 5\n",
    "X = np.array([[0., 0.], [1., 1.], [1., 2.], [2, 4]])\n",
    "y = np.array([0, 1, 3, 6])\n",
    "reg = linear_model.LinearRegression()\n",
    "print reg.fit(X, y)\n",
    "print reg.coef_"
   ]
  },
  {
   "cell_type": "code",
   "execution_count": 399,
   "metadata": {
    "collapsed": false
   },
   "outputs": [
    {
     "data": {
      "image/png": "[encoded data removed]",
      "text/plain": [
       "<matplotlib.figure.Figure at 0x118dd7890>"
      ]
     },
     "metadata": {},
     "output_type": "display_data"
    },
    {
     "name": "stdout",
     "output_type": "stream",
     "text": [
      "406.630600934 436.950844381\n",
      "406.630600934 436.950844381\n",
      "330.8595728 644.026157396\n",
      "7362.85806176 79505.398208\n",
      "199.729272338 2092.21315614\n",
      "223.942549678 10052.6619124\n",
      "229.753447034 75726.473732\n",
      "233.032717634 331200.209691\n",
      "238.468708593 2085411.28851\n",
      "233.506660813 13928171.9395\n",
      "231.852352413 107297235.429\n",
      "226.726812578 608428997.304\n",
      "221.930916694 3598910051.08\n",
      "234.248549495 27100949837.1\n",
      "228.750344276 172827128543.0\n",
      "164.246873038 9737962995.22\n",
      "141.412531214 499480982274.0\n",
      "132.884022971 1.35890942474e+12\n",
      "650.09966833 3.46886485388e+12\n",
      "898.734104576 2.69678607267e+12\n",
      "470.670154842 8.35852236127e+12\n",
      "227.677526013 717267847620.0\n",
      "423.229799421 1.99595541842e+12\n",
      "353.059275766 96870228915.3\n",
      "394.195775312 254352832563.0\n",
      "394.400262856 924040573040.0\n",
      "431.334301587 1.79946494805e+12\n",
      "481.752328295 3.05250745655e+12\n",
      "496.891741776 542837499.136\n",
      "498.95292454 758168933786.0\n",
      "524.432819446 1789780.81548\n",
      "524.427641857 3952153.08182\n",
      "524.434729932 18361772.8864\n",
      "524.907939729 26966977.4377\n",
      "537.009003963 1182498.57485\n",
      "537.104280405 1650426.14525\n",
      "536.75991555 3531209.58973\n",
      "540.604049353 4484291.88696\n",
      "583.517398194 548.683305661\n",
      "583.524442378 548.714488441\n",
      "583.520309307 777.685397946\n",
      "583.516718507 549.096453088\n",
      "583.724786858 580.455641053\n",
      "606.515703349 548.717632518\n",
      "606.51619924 548.717631966\n",
      "606.516891811 548.71763266\n",
      "606.517384762 548.717635233\n",
      "606.514429648 548.717632033\n",
      "606.512194546 548.71728019\n",
      "606.460637887 548.718053532\n",
      "606.800464815 548.71763951\n",
      "609.003020922 548.717632303\n",
      "609.003020922 548.717632303\n",
      "609.003020922 548.717632303\n",
      "609.003020922 548.717632303\n",
      "609.003020922 548.717632303\n",
      "609.003020922 548.717632303\n",
      "609.003020922 548.717632303\n",
      "609.003020922 548.717632303\n",
      "609.003020922 548.717632303\n",
      "609.003020922 548.717632303\n",
      "609.003020922 548.717632303\n",
      "609.003020922 548.717632303\n",
      "609.003020922 548.717632303\n",
      "609.003020922 548.717632303\n",
      "609.003020922 548.717632303\n",
      "609.003020922 548.717632303\n",
      "609.003020922 548.717632303\n",
      "609.003020922 548.717632303\n",
      "609.003020922 548.717632303\n",
      "609.003020922 548.717632303\n",
      "609.003020922 548.717632303\n",
      "609.003020922 548.717632303\n",
      "609.003020922 548.717632303\n",
      "609.003020922 548.717632303\n",
      "609.003020922 548.717632303\n",
      "609.003020922 548.717632303\n",
      "609.003020922 548.717632303\n",
      "609.003020922 548.717632303\n",
      "609.003020922 548.717632303\n",
      "609.003020922 548.717632303\n",
      "609.003020922 548.717632303\n",
      "609.003020922 548.717632303\n",
      "609.003020922 548.717632303\n",
      "609.003020922 548.717632303\n",
      "609.003020922 548.717632303\n",
      "609.003020922 548.717632303\n",
      "609.003020922 548.717632303\n",
      "609.003020922 548.717632303\n",
      "609.003020922 548.717632303\n",
      "609.003020922 548.717632303\n",
      "609.003020922 548.717632303\n",
      "609.003020922 548.717632303\n",
      "609.003020922 548.717632303\n",
      "609.003020922 548.717632303\n",
      "609.003020922 548.717632303\n",
      "609.003020922 548.717632303\n",
      "609.003020922 548.717632303\n",
      "609.003020922 548.717632303\n",
      "609.003020922 548.717632303\n"
     ]
    }
   ],
   "source": [
    "def sk_reg(x_train, t_train, x_test, t_test, n=19):\n",
    "    from sklearn import linear_model\n",
    "    reg = linear_model.LinearRegression()\n",
    "    X = poly_attach(x_train, n)\n",
    "    X_te = poly_attach(x_test, n)\n",
    "    \n",
    "    reg.fit(X, t_train)\n",
    "    err_train = np.sqrt(np.sum(np.square(X * reg.coef_.T - t_train)))\n",
    "    err_test = np.sqrt(np.sum(np.square(X_te * reg.coef_.T - t_test)))\n",
    "    \n",
    "    return err_train, err_test\n",
    "\n",
    "n = 100\n",
    "arr1 = [0] * n\n",
    "arr2 = [0] * n\n",
    "\n",
    "for i in xrange(n):\n",
    "    x1, y1 = sk_reg(x_train, t_train, x_test, t_test, i)\n",
    "    arr1[i] = x1\n",
    "    arr2[i] = y1\n",
    "\n",
    "    \n",
    "plt.ylim([0,1000])\n",
    "plt.plot(range(n), arr1, 'b--')\n",
    "plt.plot(range(n), arr2, 'r--')\n",
    "\n",
    "plt.show()\n",
    "\n",
    "for i in xrange(n):\n",
    "    print arr1[i], arr2[i]"
   ]
  },
  {
   "cell_type": "code",
   "execution_count": 240,
   "metadata": {
    "collapsed": false
   },
   "outputs": [
    {
     "name": "stdout",
     "output_type": "stream",
     "text": [
      "(100, 3) (100, 1) (95, 3) (95, 1) (3, 1)\n",
      "training error: 519.178652984\n",
      "testing error: 515.100970555\n"
     ]
    }
   ],
   "source": [
    "def poly_reg_1d(x_train, t_train, x_test, t_test, n=3):\n",
    "    kth = 11\n",
    "    x_train = x_train[:, kth]\n",
    "    x_test = x_test[:, kth]\n",
    "    \n",
    "    X = poly_attach(x_train, n)\n",
    "    y = t_train\n",
    "    \n",
    "    X_test = poly_attach(x_test, n)\n",
    "    y_test = t_test\n",
    "    \n",
    "    print X.shape, y.shape, X_test.shape, y_test.shape,\n",
    "    \n",
    "    w = np.linalg.inv(X.T * X) * X.T * y\n",
    "    print w.shape\n",
    "    err_train = np.sqrt(np.sum(np.square(X * w - y)))\n",
    "    err_test = np.sqrt(np.sum(np.square(X_test * w - y_test)))\n",
    "    \n",
    "    w_1 = np.zeros_like(w)\n",
    "    err_init_train = np.sqrt(np.sum(np.square(X * w_1 - y)))\n",
    "    err_init_test = np.sqrt(np.sum(np.square(X_test * w_1 - y_test)))\n",
    "    #     print \"init train error:\", err_init_train\n",
    "    print \"training error:\", err_train\n",
    "    #     print \"init test error:\", err_init_test\n",
    "    print \"testing error:\", err_test\n",
    "    \n",
    "    \n",
    "poly_reg_1d(x_train, t_train, x_test, t_test)"
   ]
  },
  {
   "cell_type": "code",
   "execution_count": null,
   "metadata": {
    "collapsed": false
   },
   "outputs": [],
   "source": []
  },
  {
   "cell_type": "code",
   "execution_count": null,
   "metadata": {
    "collapsed": true
   },
   "outputs": [],
   "source": []
  }
 ],
 "metadata": {
  "kernelspec": {
   "display_name": "Python 2",
   "language": "python",
   "name": "python2"
  },
  "language_info": {
   "codemirror_mode": {
    "name": "ipython",
    "version": 2
   },
   "file_extension": ".py",
   "mimetype": "text/x-python",
   "name": "python",
   "nbconvert_exporter": "python",
   "pygments_lexer": "ipython2",
   "version": "2.7.11"
  }
 },
 "nbformat": 4,
 "nbformat_minor": 0
}
