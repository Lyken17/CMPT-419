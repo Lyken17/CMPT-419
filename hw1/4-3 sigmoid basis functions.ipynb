{
 "cells": [
  {
   "cell_type": "code",
   "execution_count": 1,
   "metadata": {
    "collapsed": false
   },
   "outputs": [],
   "source": [
    "import assignment1 as a1\n",
    "import utilities as utl\n",
    "import scipy\n",
    "import numpy as np\n",
    "import matplotlib.pyplot as plt\n",
    "\n",
    "from utilities import *\n",
    "\n",
    "%matplotlib inline\n",
    "%load_ext autoreload\n",
    "%autoreload 2"
   ]
  },
  {
   "cell_type": "code",
   "execution_count": 2,
   "metadata": {
    "collapsed": false
   },
   "outputs": [],
   "source": [
    "(countries, features, values) = a1.load_unicef_data()\n",
    "\n",
    "targets = values[:,1]\n",
    "x = values[:,:]\n",
    "# x = a1.normalize_data(x)\n",
    "\n",
    "feature=10\n",
    "N_TRAIN = 100;\n",
    "x_train = x[0:N_TRAIN, feature]\n",
    "t_train = targets[0:N_TRAIN]\n",
    "x_test = x[N_TRAIN:, feature]\n",
    "t_test = targets[N_TRAIN:]\n",
    "\n",
    "u = (100, 10000)\n",
    "s = 2000.0"
   ]
  },
  {
   "cell_type": "code",
   "execution_count": 3,
   "metadata": {
    "collapsed": false
   },
   "outputs": [
    {
     "data": {
      "text/plain": [
       "(100, 2)"
      ]
     },
     "execution_count": 3,
     "metadata": {},
     "output_type": "execute_result"
    }
   ],
   "source": [
    "construct_sigmoid_array(x_train, u, s).shape"
   ]
  },
  {
   "cell_type": "code",
   "execution_count": 4,
   "metadata": {
    "collapsed": false
   },
   "outputs": [
    {
     "name": "stdout",
     "output_type": "stream",
     "text": [
      "(100, 2) (95, 2)\n"
     ]
    }
   ],
   "source": [
    "new_x_train = construct_sigmoid_array(x_train, u, s)\n",
    "new_x_test = construct_sigmoid_array(x_test, u, s)\n",
    "print new_x_train.shape, new_x_test.shape"
   ]
  },
  {
   "cell_type": "code",
   "execution_count": 5,
   "metadata": {
    "collapsed": false
   },
   "outputs": [
    {
     "data": {
      "image/png": "[encoded data removed]",
      "text/plain": [
       "<matplotlib.figure.Figure at 0x118f23fd0>"
      ]
     },
     "metadata": {},
     "output_type": "display_data"
    }
   ],
   "source": [
    "w, err_train, err_test =  polynomial_regression(new_x_train, t_train, new_x_test, t_test)\n",
    "# Plot a curve showing learned function.\n",
    "# Use linspace to get a set of samples on which to evaluate\n",
    "x_ev = np.linspace(np.asscalar(min(x_test)), np.asscalar(max(x_test)), num=500)\n",
    "temp = x_ev.reshape(500, 1)\n",
    "temp = add_constant(construct_sigmoid_array(temp, u, s))\n",
    "\n",
    "# TO DO:: Put your regression estimate here in place of x_ev.\n",
    "# Evaluate regression on the linspace samples.\n",
    "y_ev = np.random.random_sample(x_ev.shape)\n",
    "# y_ev = 100 * np.sin(x_ev)\n",
    "y_ev = temp * w\n",
    "\n",
    "plt.plot(x_ev,y_ev,'r.-')\n",
    "plt.plot(x_test,t_test,'bo')\n",
    "# plt.ylim(-1000, 5000)\n",
    "plt.title('A visualization of a testing points and fitting curve of feature {0}'.format(feature+1))\n",
    "plt.show()"
   ]
  },
  {
   "cell_type": "code",
   "execution_count": 6,
   "metadata": {
    "collapsed": false
   },
   "outputs": [
    {
     "data": {
      "text/plain": [
       "(28.457937762731881, 33.806724900990964)"
      ]
     },
     "execution_count": 6,
     "metadata": {},
     "output_type": "execute_result"
    }
   ],
   "source": [
    "err_train, err_test"
   ]
  },
  {
   "cell_type": "code",
   "execution_count": 7,
   "metadata": {
    "collapsed": false
   },
   "outputs": [
    {
     "name": "stdout",
     "output_type": "stream",
     "text": [
      "[[-219.17881219]\n",
      " [   8.24096287]\n",
      " [ 222.27295099]]\n"
     ]
    }
   ],
   "source": [
    "print w"
   ]
  },
  {
   "cell_type": "code",
   "execution_count": 8,
   "metadata": {
    "collapsed": false
   },
   "outputs": [
    {
     "data": {
      "text/plain": [
       "matrix([[1, 2],\n",
       "        [3, 4]])"
      ]
     },
     "execution_count": 8,
     "metadata": {},
     "output_type": "execute_result"
    }
   ],
   "source": [
    "a = np.matrix(np.array([[1,2],[3,4]]))\n",
    "a "
   ]
  },
  {
   "cell_type": "code",
   "execution_count": 9,
   "metadata": {
    "collapsed": false
   },
   "outputs": [
    {
     "data": {
      "text/plain": [
       "matrix([[   1,    2,    1,    4,    1,    8,    1,   16,    1,   32,    1,\n",
       "           64],\n",
       "        [   3,    4,    9,   16,   27,   64,   81,  256,  243, 1024,  729,\n",
       "         4096]])"
      ]
     },
     "execution_count": 9,
     "metadata": {},
     "output_type": "execute_result"
    }
   ],
   "source": [
    "reduce(lambda a,b: np.concatenate((a,b), axis=1), [np.power(a, i) for i in xrange(1, 7)])"
   ]
  },
  {
   "cell_type": "code",
   "execution_count": 10,
   "metadata": {
    "collapsed": false
   },
   "outputs": [
    {
     "data": {
      "text/plain": [
       "[0, 1, 2, 3, 4, 5, 6, 7, 8, 9]"
      ]
     },
     "execution_count": 10,
     "metadata": {},
     "output_type": "execute_result"
    }
   ],
   "source": [
    "cmpt = range(10)\n",
    "cmpt"
   ]
  },
  {
   "cell_type": "code",
   "execution_count": 11,
   "metadata": {
    "collapsed": false
   },
   "outputs": [
    {
     "data": {
      "text/plain": [
       "45"
      ]
     },
     "execution_count": 11,
     "metadata": {},
     "output_type": "execute_result"
    }
   ],
   "source": [
    "reduce(lambda a,b: a+b, cmpt)"
   ]
  },
  {
   "cell_type": "code",
   "execution_count": null,
   "metadata": {
    "collapsed": true
   },
   "outputs": [],
   "source": []
  }
 ],
 "metadata": {
  "kernelspec": {
   "display_name": "Python 2",
   "language": "python",
   "name": "python2"
  },
  "language_info": {
   "codemirror_mode": {
    "name": "ipython",
    "version": 2
   },
   "file_extension": ".py",
   "mimetype": "text/x-python",
   "name": "python",
   "nbconvert_exporter": "python",
   "pygments_lexer": "ipython2",
   "version": "2.7.11"
  }
 },
 "nbformat": 4,
 "nbformat_minor": 0
}
